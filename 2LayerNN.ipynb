{
 "cells": [
  {
   "cell_type": "code",
   "execution_count": 107,
   "metadata": {},
   "outputs": [],
   "source": [
    "import numpy as np\n",
    "import pandas as pd\n",
    "import matplotlib.pyplot as plt\n",
    "from sklearn import preprocessing\n",
    "from sklearn.preprocessing import MinMaxScaler\n",
    "from sklearn import metrics\n",
    "from sklearn.metrics import confusion_matrix\n",
    "import itertools\n",
    "\n",
    "\n",
    "\n",
    "\n",
    "def Sigmoid(Z):\n",
    "        return 1/(1+np.exp(-Z))\n",
    "    \n",
    "def Relu(Z):\n",
    "    return np.maximum(0,Z)\n",
    "\n",
    "\n",
    "def dRelu(x):\n",
    "    x[x<=0] = 0\n",
    "    x[x>0] = 1\n",
    "    return x\n",
    "def dSigmoid(Z):\n",
    "    s = 1/(1+np.exp(-Z))\n",
    "    dZ = s * (1-s)\n",
    "    return dZ\n",
    "\n",
    "class dlnet:\n",
    "    def __init__(self, x, y):\n",
    "        self.X=x\n",
    "        self.Y=y\n",
    "        self.Yh=np.zeros((1,self.Y.shape[1]))\n",
    "        self.L=2\n",
    "        self.dims = [9, 15, 1]\n",
    "        self.param = {}\n",
    "        self.ch = {}\n",
    "        self.grad = {}\n",
    "        self.loss = []\n",
    "        self.lr=0.003\n",
    "        self.sam = self.Y.shape[1]\n",
    "        self.threshold=0.5\n",
    "    def nInit(self):    \n",
    "        np.random.seed(1)\n",
    "        self.param['W1'] = np.random.randn(self.dims[1], self.dims[0]) / np.sqrt(self.dims[0]) \n",
    "        self.param['b1'] = np.zeros((self.dims[1], 1))        \n",
    "        self.param['W2'] = np.random.randn(self.dims[2], self.dims[1]) / np.sqrt(self.dims[1]) \n",
    "        self.param['b2'] = np.zeros((self.dims[2], 1))                \n",
    "        return\n",
    "    \n",
    "    def nloss(self,Yh):\n",
    "        loss = (1./self.sam) * (-np.dot(self.Y,np.log(Yh).T) - np.dot(1-self.Y, np.log(1-Yh).T))    \n",
    "        return loss\n",
    "    \n",
    "    def forward(self):\n",
    "        Z1 = self.param['W1'].dot(self.X)+self.param['b1']\n",
    "        A1 = Relu(Z1)\n",
    "        self.ch['Z1'],self.ch['A1']=Z1,A1\n",
    "        \n",
    "        Z2 = self.param['W2'].dot(A1)+self.param['b2']\n",
    "        A2 = Sigmoid(Z2)\n",
    "        self.ch['Z2'],self.ch['A2']=Z2,A2\n",
    "        \n",
    "        self.Yh=A2\n",
    "        loss=self.nloss(A2)\n",
    "        return self.Yh, loss\n",
    "        \n",
    "    \n",
    "    \n",
    "\n",
    "\n",
    "    def backward(self):\n",
    "            dLoss_Yh = - (np.divide(self.Y, self.Yh ) - np.divide(1 - self.Y, 1 - self.Yh))    \n",
    "\n",
    "            dLoss_Z2 = dLoss_Yh * dSigmoid(self.ch['Z2'])    \n",
    "            dLoss_A1 = np.dot(self.param[\"W2\"].T,dLoss_Z2)\n",
    "            dLoss_W2 = 1./self.ch['A1'].shape[1] * np.dot(dLoss_Z2,self.ch['A1'].T)\n",
    "            dLoss_b2 = 1./self.ch['A1'].shape[1] * np.dot(dLoss_Z2, np.ones([dLoss_Z2.shape[1],1])) \n",
    "\n",
    "            dLoss_Z1 = dLoss_A1 * dRelu(self.ch['Z1'])        \n",
    "            dLoss_A0 = np.dot(self.param[\"W1\"].T,dLoss_Z1)\n",
    "            dLoss_W1 = 1./self.X.shape[1] * np.dot(dLoss_Z1,self.X.T)\n",
    "            dLoss_b1 = 1./self.X.shape[1] * np.dot(dLoss_Z1, np.ones([dLoss_Z1.shape[1],1]))  \n",
    "\n",
    "            self.param[\"W1\"] = self.param[\"W1\"] - self.lr * dLoss_W1\n",
    "            self.param[\"b1\"] = self.param[\"b1\"] - self.lr * dLoss_b1\n",
    "            self.param[\"W2\"] = self.param[\"W2\"] - self.lr * dLoss_W2\n",
    "            self.param[\"b2\"] = self.param[\"b2\"] - self.lr * dLoss_b2\n",
    "\n",
    "    def gd(self,X, Y, iter = 3000):\n",
    "            np.random.seed(1)                         \n",
    "\n",
    "            self.nInit()\n",
    "    \n",
    "            for i in range(0, iter):\n",
    "                Yh, loss=self.forward()\n",
    "                self.backward()\n",
    "\n",
    "                if i % 500 == 0:\n",
    "                    print (\"Cost after iteration %i: %f\" %(i, loss))\n",
    "                    self.loss.append(loss)\n",
    "            \n",
    "            plt.plot(np.squeeze(self.loss))\n",
    "            plt.ylabel('Loss')\n",
    "            plt.xlabel('Iter')\n",
    "            plt.title(\"Lr =\" + str(self.lr))\n",
    "            plt.show()\n",
    "\n",
    "            return\n",
    "    def pred(self,x, y):  \n",
    "        self.X=x\n",
    "        self.Y=y\n",
    "        comp = np.zeros((1,x.shape[1]))\n",
    "        pred, loss= self.forward()    \n",
    "    \n",
    "        for i in range(0, pred.shape[1]):\n",
    "            if pred[0,i] > self.threshold: \n",
    "                comp[0,i] = 1\n",
    "            #else: \n",
    "             #   comp[0,i] = 0\n",
    "    \n",
    "        print(\"Acc: \" + str(np.sum((comp == y)/x.shape[1])))\n",
    "        \n",
    "        return comp\n",
    "\n",
    "\n"
   ]
  },
  {
   "cell_type": "code",
   "execution_count": 108,
   "metadata": {},
   "outputs": [],
   "source": [
    "df = pd.read_csv('breast-cancer-wisconsin.data', header= None)\n",
    "df = df[~df[6].isin(['?'])]\n",
    "df.iloc[:,10].replace({2,4},{0,1},inplace=True)\n",
    "df.astype(float)\n",
    "df.head(5)\n",
    "\n",
    "\n",
    "names = df.columns[0:10]\n",
    "scaler = MinMaxScaler() \n",
    "scaled_df = scaler.fit_transform(df.iloc[:,0:10]) \n",
    "scaled_df = pd.DataFrame(scaled_df, columns=names)\n",
    "scaled_df[10]= df[10]\n",
    "scaled_df.head(5)\n",
    "\n",
    "x=scaled_df.iloc[0:500,1:10].values.transpose()\n",
    "y=df.iloc[0:500,10:].values.transpose()\n",
    "xval=scaled_df.iloc[501:683,1:10].values.transpose()\n",
    "yval=df.iloc[501:683,10:].values.transpose()"
   ]
  },
  {
   "cell_type": "code",
   "execution_count": 109,
   "metadata": {},
   "outputs": [
    {
     "name": "stdout",
     "output_type": "stream",
     "text": [
      "Cost after iteration 0: 0.673967\n",
      "Cost after iteration 500: 0.388928\n",
      "Cost after iteration 1000: 0.231340\n",
      "Cost after iteration 1500: 0.171447\n",
      "Cost after iteration 2000: 0.146433\n",
      "Cost after iteration 2500: 0.133993\n",
      "Cost after iteration 3000: 0.126808\n",
      "Cost after iteration 3500: 0.122107\n",
      "Cost after iteration 4000: 0.118650\n",
      "Cost after iteration 4500: 0.116027\n",
      "Cost after iteration 5000: 0.113934\n",
      "Cost after iteration 5500: 0.112221\n",
      "Cost after iteration 6000: 0.110783\n",
      "Cost after iteration 6500: 0.109546\n",
      "Cost after iteration 7000: 0.108474\n",
      "Cost after iteration 7500: 0.107537\n",
      "Cost after iteration 8000: 0.106710\n",
      "Cost after iteration 8500: 0.105977\n",
      "Cost after iteration 9000: 0.105317\n",
      "Cost after iteration 9500: 0.104718\n",
      "Cost after iteration 10000: 0.104174\n",
      "Cost after iteration 10500: 0.103674\n",
      "Cost after iteration 11000: 0.103216\n",
      "Cost after iteration 11500: 0.102785\n",
      "Cost after iteration 12000: 0.102377\n",
      "Cost after iteration 12500: 0.101980\n",
      "Cost after iteration 13000: 0.101604\n",
      "Cost after iteration 13500: 0.101251\n",
      "Cost after iteration 14000: 0.100912\n",
      "Cost after iteration 14500: 0.100592\n"
     ]
    },
    {
     "data": {
      "image/png": "[encoded data removed]",
      "text/plain": [
       "<Figure size 432x288 with 1 Axes>"
      ]
     },
     "metadata": {
      "needs_background": "light"
     },
     "output_type": "display_data"
    }
   ],
   "source": [
    "nn = dlnet(x,y)\n",
    "nn.lr=0.01\n",
    "nn.dims = [9, 15, 1]\n",
    "nn.gd(x, y, iter = 15000)"
   ]
  },
  {
   "cell_type": "code",
   "execution_count": 110,
   "metadata": {},
   "outputs": [
    {
     "name": "stdout",
     "output_type": "stream",
     "text": [
      "Acc: 1.0\n"
     ]
    },
    {
     "data": {
      "text/plain": [
       "array([[0., 0., 0., 1., 0., 0., 1., 1., 0., 0., 0., 0., 0., 0., 1., 0.,\n",
       "        0., 0., 0., 0., 0., 0., 0., 0., 0., 0., 0., 0., 0., 0., 1., 0.,\n",
       "        0., 1., 0., 0., 0., 0., 0., 0., 0., 0., 0., 0., 0., 0., 0., 0.,\n",
       "        0., 1., 0., 0., 1., 1., 1., 1., 0., 0., 1., 0., 0., 0., 0., 0.,\n",
       "        0., 1., 1., 0., 0., 0., 1., 0., 1., 0., 1., 1., 1., 0., 1., 0.,\n",
       "        0., 0., 0., 0., 0., 0., 0., 1., 1., 1., 0., 0., 1., 0., 1., 1.,\n",
       "        1., 0., 0., 0., 0., 0., 0., 0., 0., 0., 0., 0., 0., 1., 0., 0.,\n",
       "        0., 0., 0., 0., 1., 0., 0., 1., 0., 0., 0., 0., 0., 0., 0., 0.,\n",
       "        0., 0., 0., 1., 0., 0., 0., 0., 0., 0., 0., 0., 0., 1., 0., 0.,\n",
       "        0., 0., 0., 0., 0., 0., 0., 1., 1., 1., 0., 0., 0., 0., 0., 0.,\n",
       "        0., 0., 0., 1., 1., 0., 0., 0., 0., 0., 0., 0., 0., 0., 1., 0.,\n",
       "        0., 0., 0., 1., 1., 1.]])"
      ]
     },
     "execution_count": 110,
     "metadata": {},
     "output_type": "execute_result"
    }
   ],
   "source": [
    "nn.pred(xval,yval)"
   ]
  },
  {
   "cell_type": "code",
   "execution_count": 111,
   "metadata": {},
   "outputs": [
    {
     "name": "stdout",
     "output_type": "stream",
     "text": [
      "Acc: 0.9620000000000003\n"
     ]
    },
    {
     "data": {
      "text/plain": [
       "array([[0., 1., 0., 1., 0., 1., 0., 0., 0., 0., 0., 0., 0., 0., 1., 1.,\n",
       "        0., 0., 1., 0., 1., 1., 0., 0., 1., 0., 0., 0., 0., 0., 0., 1.,\n",
       "        0., 0., 0., 1., 0., 1., 1., 1., 1., 0., 1., 0., 1., 0., 0., 1.,\n",
       "        1., 0., 1., 1., 1., 1., 1., 1., 1., 1., 1., 0., 1., 1., 0., 1.,\n",
       "        0., 1., 1., 0., 0., 1., 0., 1., 1., 0., 0., 0., 0., 0., 0., 0.,\n",
       "        0., 0., 1., 1., 1., 1., 0., 0., 0., 0., 0., 0., 0., 0., 0., 0.,\n",
       "        1., 1., 1., 0., 0., 0., 1., 1., 1., 1., 0., 1., 0., 1., 1., 1.,\n",
       "        0., 0., 0., 1., 0., 0., 0., 0., 1., 1., 1., 0., 1., 0., 1., 0.,\n",
       "        0., 0., 1., 0., 0., 0., 0., 0., 0., 0., 0., 1., 0., 0., 1., 0.,\n",
       "        0., 1., 0., 1., 1., 0., 0., 1., 0., 0., 1., 1., 0., 0., 0., 0.,\n",
       "        1., 1., 0., 0., 0., 0., 0., 1., 1., 1., 0., 1., 0., 1., 0., 0.,\n",
       "        0., 1., 1., 0., 1., 1., 1., 0., 1., 1., 0., 0., 0., 0., 1., 0.,\n",
       "        0., 0., 1., 1., 0., 0., 0., 1., 1., 0., 0., 0., 1., 1., 0., 1.,\n",
       "        1., 1., 0., 0., 1., 0., 0., 1., 0., 1., 1., 0., 1., 1., 0., 1.,\n",
       "        1., 1., 1., 1., 0., 1., 1., 1., 1., 0., 0., 0., 0., 0., 0., 1.,\n",
       "        1., 0., 0., 1., 1., 1., 1., 1., 0., 0., 0., 1., 1., 1., 1., 1.,\n",
       "        1., 0., 1., 1., 1., 0., 1., 0., 1., 0., 0., 0., 0., 0., 1., 0.,\n",
       "        0., 1., 1., 1., 1., 1., 0., 1., 1., 0., 0., 1., 1., 1., 0., 1.,\n",
       "        1., 0., 1., 0., 1., 1., 0., 0., 1., 0., 0., 0., 1., 0., 0., 1.,\n",
       "        1., 0., 1., 1., 0., 1., 0., 0., 1., 0., 1., 1., 1., 0., 0., 1.,\n",
       "        1., 0., 1., 0., 0., 1., 1., 0., 0., 0., 1., 0., 0., 0., 0., 1.,\n",
       "        0., 0., 0., 1., 0., 0., 0., 1., 1., 1., 1., 1., 0., 0., 0., 0.,\n",
       "        1., 1., 0., 0., 0., 0., 0., 0., 0., 0., 0., 0., 0., 0., 0., 1.,\n",
       "        0., 0., 0., 0., 1., 0., 0., 0., 0., 1., 0., 0., 0., 0., 0., 0.,\n",
       "        0., 0., 1., 0., 0., 0., 0., 0., 0., 0., 0., 0., 0., 1., 0., 1.,\n",
       "        0., 1., 0., 0., 0., 0., 1., 0., 0., 0., 1., 0., 1., 0., 0., 0.,\n",
       "        0., 0., 0., 1., 1., 1., 0., 0., 0., 1., 0., 0., 0., 0., 0., 0.,\n",
       "        0., 0., 1., 0., 0., 0., 1., 0., 1., 1., 1., 0., 0., 0., 0., 0.,\n",
       "        0., 0., 1., 1., 1., 0., 0., 0., 0., 0., 0., 0., 0., 0., 0., 0.,\n",
       "        1., 0., 0., 1., 1., 0., 0., 0., 1., 1., 0., 0., 1., 0., 1., 0.,\n",
       "        0., 0., 0., 0., 0., 0., 0., 0., 0., 0., 0., 1., 0., 0., 0., 0.,\n",
       "        0., 0., 0., 1.]])"
      ]
     },
     "execution_count": 111,
     "metadata": {},
     "output_type": "execute_result"
    }
   ],
   "source": [
    "nn.pred(x,y)"
   ]
  },
  {
   "cell_type": "code",
   "execution_count": 112,
   "metadata": {},
   "outputs": [],
   "source": [
    "def plotCf(a,b,t):\n",
    "    cf =confusion_matrix(a,b)\n",
    "    plt.imshow(cf,cmap=plt.cm.Blues,interpolation='nearest')\n",
    "    plt.colorbar()\n",
    "    plt.title(t)\n",
    "    plt.xlabel('Predicted')\n",
    "    plt.ylabel('Actual')\n",
    "    tick_marks = np.arange(len(set(a))) # length of classes\n",
    "    class_labels = ['0','1']\n",
    "    plt.xticks(tick_marks,class_labels)\n",
    "    plt.yticks(tick_marks,class_labels)\n",
    "    thresh = cf.max() / 2.\n",
    "    for i,j in itertools.product(range(cf.shape[0]),range(cf.shape[1])):\n",
    "        plt.text(j,i,format(cf[i,j],'d'),horizontalalignment='center',color='white' if cf[i,j] >thresh else 'black')\n",
    "    plt.show();"
   ]
  },
  {
   "cell_type": "code",
   "execution_count": 113,
   "metadata": {},
   "outputs": [
    {
     "name": "stdout",
     "output_type": "stream",
     "text": [
      "Acc: 0.9500000000000003\n"
     ]
    },
    {
     "data": {
      "image/png": "[encoded data removed]",
      "text/plain": [
       "<Figure size 432x288 with 2 Axes>"
      ]
     },
     "metadata": {
      "needs_background": "light"
     },
     "output_type": "display_data"
    }
   ],
   "source": [
    "nn. threshold = 0.7\n",
    "nn.X,nn.Y=x, y \n",
    "target=np.around(np.squeeze(y), decimals=0).astype(np.int)\n",
    "predicted=np.around(np.squeeze(nn.pred(x,y)), decimals=0).astype(np.int)\n",
    "plotCf(target,predicted,'Cf Training Set')\n",
    "\n"
   ]
  },
  {
   "cell_type": "code",
   "execution_count": 117,
   "metadata": {},
   "outputs": [
    {
     "name": "stdout",
     "output_type": "stream",
     "text": [
      "Acc: 0.989010989010989\n"
     ]
    },
    {
     "data": {
      "image/png": "[encoded data removed]",
      "text/plain": [
       "<Figure size 432x288 with 2 Axes>"
      ]
     },
     "metadata": {
      "needs_background": "light"
     },
     "output_type": "display_data"
    }
   ],
   "source": [
    "nn.threshold=0.9\n",
    "nn.X,nn.Y=xval, yval \n",
    "target=np.around(np.squeeze(yval), decimals=0).astype(np.int)\n",
    "predicted=np.around(np.squeeze(nn.pred(xval,yval)), decimals=0).astype(np.int)\n",
    "plotCf(target,predicted,'Cf Validation Set')"
   ]
  },
  {
   "cell_type": "code",
   "execution_count": null,
   "metadata": {},
   "outputs": [],
   "source": []
  }
 ],
 "metadata": {
  "kernelspec": {
   "display_name": "Python 3",
   "language": "python",
   "name": "python3"
  },
  "language_info": {
   "codemirror_mode": {
    "name": "ipython",
    "version": 3
   },
   "file_extension": ".py",
   "mimetype": "text/x-python",
   "name": "python",
   "nbconvert_exporter": "python",
   "pygments_lexer": "ipython3",
   "version": "3.6.8"
  }
 },
 "nbformat": 4,
 "nbformat_minor": 2
}
